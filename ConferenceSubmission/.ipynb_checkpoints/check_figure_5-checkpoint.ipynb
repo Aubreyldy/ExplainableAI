{
 "cells": [
  {
   "cell_type": "markdown",
   "metadata": {
    "toc": true
   },
   "source": [
    "<h1>Table of Contents<span class=\"tocSkip\"></span></h1>\n",
    "<div class=\"toc\"><ul class=\"toc-item\"><li><span><a href=\"#Import-Package\" data-toc-modified-id=\"Import-Package-1\"><span class=\"toc-item-num\">1&nbsp;&nbsp;</span>Import Package</a></span></li><li><span><a href=\"#Multi-way-AND-function\" data-toc-modified-id=\"Multi-way-AND-function-2\"><span class=\"toc-item-num\">2&nbsp;&nbsp;</span>Multi-way AND function</a></span><ul class=\"toc-item\"><li><span><a href=\"#Verify-figure-5\" data-toc-modified-id=\"Verify-figure-5-2.1\"><span class=\"toc-item-num\">2.1&nbsp;&nbsp;</span>Verify figure 5</a></span></li><li><span><a href=\"#Simulate-random-forest\" data-toc-modified-id=\"Simulate-random-forest-2.2\"><span class=\"toc-item-num\">2.2&nbsp;&nbsp;</span>Simulate random forest</a></span></li></ul></li><li><span><a href=\"#Simulate-a-figure-similar-to-figure-4-with-2,-3,-4-ways-and-use-random-forest-average-as-explanation-score\" data-toc-modified-id=\"Simulate-a-figure-similar-to-figure-4-with-2,-3,-4-ways-and-use-random-forest-average-as-explanation-score-3\"><span class=\"toc-item-num\">3&nbsp;&nbsp;</span>Simulate a figure similar to figure 4 with 2, 3, 4 ways and use random forest average as explanation score</a></span><ul class=\"toc-item\"><li><span><a href=\"#fit-model-with-a-single-tree\" data-toc-modified-id=\"fit-model-with-a-single-tree-3.1\"><span class=\"toc-item-num\">3.1&nbsp;&nbsp;</span>fit model with a single tree</a></span></li><li><span><a href=\"#fit-model-with-a-random-forest\" data-toc-modified-id=\"fit-model-with-a-random-forest-3.2\"><span class=\"toc-item-num\">3.2&nbsp;&nbsp;</span>fit model with a random forest</a></span></li></ul></li><li><span><a href=\"#Multi-way-OR-function\" data-toc-modified-id=\"Multi-way-OR-function-4\"><span class=\"toc-item-num\">4&nbsp;&nbsp;</span>Multi-way OR function</a></span><ul class=\"toc-item\"><li><span><a href=\"#fit-model-with-a-single-tree\" data-toc-modified-id=\"fit-model-with-a-single-tree-4.1\"><span class=\"toc-item-num\">4.1&nbsp;&nbsp;</span>fit model with a single tree</a></span></li><li><span><a href=\"#fit-model-with-a-random-forest\" data-toc-modified-id=\"fit-model-with-a-random-forest-4.2\"><span class=\"toc-item-num\">4.2&nbsp;&nbsp;</span>fit model with a random forest</a></span></li></ul></li></ul></div>"
   ]
  },
  {
   "cell_type": "markdown",
   "metadata": {},
   "source": [
    "27.01.2022 Note\n",
    "\n",
    "1. After randomization, both AND and OR function shows that Saabas and Shap is practically similar\n",
    "2. The only problem that need to be considered is the sum of Saabas and Shap over all features are not definitely 1 if we don't set up the max_depth. But if we set max_depth is i, then the sum is way smaller than 1 in 2 way. -> Randomization"
   ]
  },
  {
   "cell_type": "markdown",
   "metadata": {},
   "source": [
    "# Import Package\n",
    "\n",
    "The codes references the Saabas Inconsistencies.ipynb from https://github.com/suinleelab/treeexplainer-study/tree/master/notebooks"
   ]
  },
  {
   "cell_type": "code",
   "execution_count": 2,
   "metadata": {},
   "outputs": [],
   "source": [
    "import shap\n",
    "from pathlib import Path\n",
    "import sklearn\n",
    "from sklearn.model_selection import train_test_split\n",
    "import matplotlib.pyplot as pl\n",
    "from sklearn.tree import DecisionTreeRegressor\n",
    "import numpy as np\n",
    "#import graphviz\n",
    "from treeinterpreter import treeinterpreter as ti\n",
    "from sklearn.ensemble import RandomForestRegressor\n",
    "import pandas as pd\n",
    "import random\n",
    "\n"
   ]
  },
  {
   "cell_type": "markdown",
   "metadata": {},
   "source": [
    "# Multi-way AND function\n",
    "\n",
    "## Verify figure 5"
   ]
  },
  {
   "cell_type": "code",
   "execution_count": 3,
   "metadata": {},
   "outputs": [],
   "source": [
    "def multiwayand(display=False, and_size=2, extra_features=0):\n",
    "    M = and_size + extra_features # number of features\n",
    "    N = 2**M # number of observations\n",
    "    \n",
    "    X = np.zeros((N,M)) # a matrix (N * M)\n",
    "    def rec(X, start, end, depth):\n",
    "        if depth >= X.shape[1]: return\n",
    "        half = (start + end) // 2\n",
    "        X[start:half,depth] = 1\n",
    "        rec(X, start, half, depth + 1) # Recursive Functions\n",
    "        rec(X, half, end, depth + 1)\n",
    "\n",
    "    rec(X, 0, N, 0)\n",
    "    y = np.zeros(N)\n",
    "    \n",
    "    y[X[:,:and_size].sum(1) == and_size] = 1\n",
    "    \n",
    "    return X, y\n"
   ]
  },
  {
   "cell_type": "code",
   "execution_count": 4,
   "metadata": {
    "scrolled": true
   },
   "outputs": [],
   "source": [
    "def corroborate_Figure5(and_size, extra_features, m):\n",
    "\n",
    "    X,y = multiwayand(and_size = and_size, extra_features = extra_features) # Fever-Cough occassion\n",
    "    print(\"X is\")\n",
    "    print(X)\n",
    "    print()\n",
    "    print(\"y is\")\n",
    "    print(y)\n",
    "    print()\n",
    "    if m == \"A\":\n",
    "        y[(X[:,0]==1.) & (X[:,1]==1.)] = 80 # Model A\n",
    "    if m == \"B\":\n",
    "        y[(X[:,0]==1.) & (X[:,1]==1.)] = 90 # Model B\n",
    "        y[(X[:,0]==1.) & (X[:,1]==0.)] = 10\n",
    "    print(\"y is\")\n",
    "    print(y)\n",
    "    model = sklearn.tree.DecisionTreeRegressor(max_depth=2, max_features = 1)\n",
    "    model.fit(X, y)\n",
    "    \n",
    "    shap_values = shap.TreeExplainer(model).shap_values(X)\n",
    "    print(\"Tree SHAP is \",shap_values)\n",
    "    \n",
    "    shap_all = shap.Explainer(model)\n",
    "    print(\"SHAP all is \",shap_all(X))\n",
    "    \n",
    "    pred, bias, cfc = ti.predict(model, X) # tree interpreter values\n",
    "    print(\"Saabas by ti is \",cfc)\n",
    "    \n",
    "    saabas_values = shap.TreeExplainer(model).shap_values(X, approximate=True)\n",
    "    print(\"Saabas by shap_app_T is \",saabas_values)\n",
    "    \n",
    "    return X,shap_values, cfc"
   ]
  },
  {
   "cell_type": "code",
   "execution_count": 4,
   "metadata": {},
   "outputs": [
    {
     "name": "stdout",
     "output_type": "stream",
     "text": [
      "X is\n",
      "[[1. 1.]\n",
      " [1. 0.]\n",
      " [0. 1.]\n",
      " [0. 0.]]\n",
      "\n",
      "y is\n",
      "[1. 0. 0. 0.]\n",
      "\n",
      "y is\n",
      "[80.  0.  0.  0.]\n",
      "Tree SHAP is  [[ 30.  30.]\n",
      " [ 10. -30.]\n",
      " [-30.  10.]\n",
      " [-10. -10.]]\n",
      "SHAP all is  .values =\n",
      "array([[ 30.,  30.],\n",
      "       [ 10., -30.],\n",
      "       [-30.,  10.],\n",
      "       [-10., -10.]])\n",
      "\n",
      ".base_values =\n",
      "array([[20.],\n",
      "       [20.],\n",
      "       [20.],\n",
      "       [20.]])\n",
      "\n",
      ".data =\n",
      "array([[1., 1.],\n",
      "       [1., 0.],\n",
      "       [0., 1.],\n",
      "       [0., 0.]])\n",
      "Saabas by ti is  [[ 20.  40.]\n",
      " [ 20. -40.]\n",
      " [-20.   0.]\n",
      " [-20.   0.]]\n",
      "Saabas by shap_app_T is  [[ 20.  40.]\n",
      " [ 20. -40.]\n",
      " [-20.   0.]\n",
      " [-20.   0.]]\n"
     ]
    },
    {
     "data": {
      "text/plain": [
       "(array([[ 30.,  30.],\n",
       "        [ 10., -30.],\n",
       "        [-30.,  10.],\n",
       "        [-10., -10.]]),\n",
       " array([[ 20.,  40.],\n",
       "        [ 20., -40.],\n",
       "        [-20.,   0.],\n",
       "        [-20.,   0.]]))"
      ]
     },
     "execution_count": 4,
     "metadata": {},
     "output_type": "execute_result"
    }
   ],
   "source": [
    "X_A, shap_values_A, cfc_A = corroborate_Figure5(2,0,\"A\") # check the Figure 5 Model A\n",
    "shap_values_A, cfc_A"
   ]
  },
  {
   "cell_type": "code",
   "execution_count": 5,
   "metadata": {},
   "outputs": [
    {
     "name": "stdout",
     "output_type": "stream",
     "text": [
      "[0. 0.]\n",
      "[0. 0.]\n",
      "[10. 10.]\n",
      "[10. 10.]\n"
     ]
    }
   ],
   "source": [
    "# Average each feature\n",
    "print(shap_values_A.mean(axis = 0))\n",
    "print(cfc_A.mean(axis = 0))\n",
    "\n",
    "# Average each feature\n",
    "print((X_A * shap_values_A).mean(axis = 0))\n",
    "print((X_A *cfc_A).mean(axis = 0))"
   ]
  },
  {
   "cell_type": "code",
   "execution_count": 6,
   "metadata": {
    "scrolled": true
   },
   "outputs": [
    {
     "name": "stdout",
     "output_type": "stream",
     "text": [
      "X is\n",
      "[[1. 1.]\n",
      " [1. 0.]\n",
      " [0. 1.]\n",
      " [0. 0.]]\n",
      "\n",
      "y is\n",
      "[1. 0. 0. 0.]\n",
      "\n",
      "y is\n",
      "[90. 10.  0.  0.]\n",
      "Tree SHAP is  [[ 35.  30.]\n",
      " [ 15. -30.]\n",
      " [-35.  10.]\n",
      " [-15. -10.]]\n",
      "SHAP all is  .values =\n",
      "array([[ 35.,  30.],\n",
      "       [ 15., -30.],\n",
      "       [-35.,  10.],\n",
      "       [-15., -10.]])\n",
      "\n",
      ".base_values =\n",
      "array([[25.],\n",
      "       [25.],\n",
      "       [25.],\n",
      "       [25.]])\n",
      "\n",
      ".data =\n",
      "array([[1., 1.],\n",
      "       [1., 0.],\n",
      "       [0., 1.],\n",
      "       [0., 0.]])\n",
      "Saabas by ti is  [[ 25.  40.]\n",
      " [ 25. -40.]\n",
      " [-25.   0.]\n",
      " [-25.   0.]]\n",
      "Saabas by shap_app_T is  [[ 25.  40.]\n",
      " [ 25. -40.]\n",
      " [-25.   0.]\n",
      " [-25.   0.]]\n"
     ]
    },
    {
     "data": {
      "text/plain": [
       "(array([[ 35.,  30.],\n",
       "        [ 15., -30.],\n",
       "        [-35.,  10.],\n",
       "        [-15., -10.]]),\n",
       " array([[ 25.,  40.],\n",
       "        [ 25., -40.],\n",
       "        [-25.,   0.],\n",
       "        [-25.,   0.]]))"
      ]
     },
     "execution_count": 6,
     "metadata": {},
     "output_type": "execute_result"
    }
   ],
   "source": [
    "X_B, shap_values_B, cfc_B =corroborate_Figure5(2,0,\"B\") # check the Figure 5 Model B\n",
    "shap_values_B, cfc_B"
   ]
  },
  {
   "cell_type": "code",
   "execution_count": 7,
   "metadata": {},
   "outputs": [
    {
     "name": "stdout",
     "output_type": "stream",
     "text": [
      "[0. 0.]\n",
      "[0. 0.]\n",
      "[12.5 10. ]\n",
      "[12.5 10. ]\n"
     ]
    }
   ],
   "source": [
    "# Average each feature\n",
    "print(shap_values_B.mean(axis = 0))\n",
    "print(cfc_B.mean(axis = 0))\n",
    "\n",
    "# x * each feature then average\n",
    "print((X_B * shap_values_B).mean(axis = 0))\n",
    "print((X_B *cfc_B).mean(axis = 0))"
   ]
  },
  {
   "cell_type": "markdown",
   "metadata": {},
   "source": [
    "But if we average each feature, both in SHAP and Saabas Fever and Cough are equally important in this simple even data."
   ]
  },
  {
   "cell_type": "markdown",
   "metadata": {},
   "source": [
    "## Simulate random forest\n",
    "\n",
    "- cough, fever 800 dataset (even)\n",
    "- 100 trees in random forest (ntry = 1)\n",
    "- ti and shap for each feature"
   ]
  },
  {
   "cell_type": "code",
   "execution_count": 5,
   "metadata": {},
   "outputs": [],
   "source": [
    "def multiwayand2(display=False, and_size=2, extra_features=0, obsn=800):\n",
    "    M = and_size + extra_features # number of features\n",
    "    N = obsn # number of observations\n",
    "    \n",
    "    X = np.zeros((N,M)) # a matrix (N * M)\n",
    "    def rec(X, start, end, depth):\n",
    "        if depth >= X.shape[1]: return\n",
    "        half = (start + end) // 2\n",
    "        X[start:half,depth] = 1\n",
    "        rec(X, start, half, depth + 1) # Recursive Functions\n",
    "        rec(X, half, end, depth + 1)\n",
    "\n",
    "    rec(X, 0, N, 0)\n",
    "    y = np.zeros(N)\n",
    "    \n",
    "    y[X[:,:and_size].sum(1) == and_size] = 1\n",
    "    \n",
    "    return X, y\n"
   ]
  },
  {
   "cell_type": "code",
   "execution_count": 9,
   "metadata": {},
   "outputs": [],
   "source": [
    "def mysimulation1(m):\n",
    "\n",
    "    X,y = multiwayand2(and_size = 2, extra_features = 0, obsn=800)\n",
    "\n",
    "    if m == \"A\":\n",
    "        y[(X[:,0]==1.) & (X[:,1]==1.)] = 80 # Model A\n",
    "    if m == \"B\":\n",
    "        y[(X[:,0]==1.) & (X[:,1]==1.)] = 90 # Model B\n",
    "        y[(X[:,0]==1.) & (X[:,1]==0.)] = 10\n",
    "    rf = RandomForestRegressor(max_features = 1, n_estimators = 100)\n",
    "    # max_features = mtry = 1\n",
    "    rf.fit(X,y)\n",
    "    \n",
    "    # all trees\n",
    "    j=0\n",
    "    shap_values = []\n",
    "    saabas_values = []\n",
    "    for tree in rf.estimators_:\n",
    "        shap_values.append(shap.TreeExplainer(tree).shap_values(X[(X[:,0]==1.) & (X[:,1]==1.)]).mean(axis = 0))\n",
    "\n",
    "        saabas_values.append(shap.TreeExplainer(tree).shap_values(X[(X[:,0]==1.) & (X[:,1]==1.)], approximate=True).mean(axis = 0))\n",
    "\n",
    "        j=j+1\n",
    "\n",
    "    \n",
    "    return np.mean(shap_values, axis = 0), np.mean(saabas_values, axis = 0)"
   ]
  },
  {
   "cell_type": "code",
   "execution_count": 10,
   "metadata": {},
   "outputs": [],
   "source": [
    "#random.seed(0)\n",
    "shapA, tiA = mysimulation1(\"A\")\n",
    "shapB, tiB = mysimulation1(\"B\")"
   ]
  },
  {
   "cell_type": "code",
   "execution_count": 11,
   "metadata": {},
   "outputs": [
    {
     "name": "stdout",
     "output_type": "stream",
     "text": [
      "[29.99323298 30.06376702] [29.17146596 30.88553404]\n"
     ]
    }
   ],
   "source": [
    "print(shapA, tiA) # [ 30.,  30.], [ 20.,  40.]"
   ]
  },
  {
   "cell_type": "code",
   "execution_count": 12,
   "metadata": {},
   "outputs": [
    {
     "name": "stdout",
     "output_type": "stream",
     "text": [
      "[34.91191094 29.97146406] [35.07544689 29.80792811]\n"
     ]
    }
   ],
   "source": [
    "print(shapB, tiB) # [ 35.,  30.], [ 25.  40.]"
   ]
  },
  {
   "cell_type": "markdown",
   "metadata": {},
   "source": [
    "# Simulate a figure similar to figure 4 with 2, 3, 4 ways and use random forest average as explanation score\n",
    "\n",
    "## fit model with a single tree"
   ]
  },
  {
   "cell_type": "code",
   "execution_count": 6,
   "metadata": {
    "scrolled": false
   },
   "outputs": [],
   "source": [
    "# don't need to run again\n",
    "\n",
    "saabas_values_arr = []\n",
    "shap_values_arr = []\n",
    "for i in range(2,11):\n",
    "    X,y = multiwayand(and_size=i, extra_features=10-i)\n",
    "#    print(i)\n",
    "#    print(X)\n",
    "#    print(y)\n",
    "    y[y == 0] = -y.sum()/(y == 0).sum()\n",
    "    model = sklearn.tree.DecisionTreeRegressor(max_depth=i,random_state=50) # it doesn't matter though\n",
    "    model.fit(X, y)\n",
    "    \n",
    "   # print(y.mean())\n",
    "    shap_values = shap.TreeExplainer(model).shap_values(X[0:1,:])\n",
    "    shap_values_arr.append(shap_values)\n",
    "    saabas_values = shap.TreeExplainer(model).shap_values(X[0:1,:], approximate=True)\n",
    "    saabas_values_arr.append(saabas_values)\n",
    "#     print(X[0,:])\n",
    "#    print(shap.TreeExplainer(model).shap_values(X[0:1,:]))\n",
    "#    print(shap.TreeExplainer(model).shap_values(X[0:1,:], approximate=True))\n",
    "\n",
    "#print(saabas_values_arr)\n"
   ]
  },
  {
   "cell_type": "code",
   "execution_count": 7,
   "metadata": {},
   "outputs": [],
   "source": [
    "# don't need to run again\n",
    "\n",
    "# change to dataframe\n",
    "shap_values_arr = pd.DataFrame({\"2way\":shap_values_arr[0][0],\n",
    "            \"3way\":shap_values_arr[1][0],\n",
    "            \"4way\":shap_values_arr[2][0],\n",
    "            \"5way\":shap_values_arr[3][0],\n",
    "            \"6way\":shap_values_arr[4][0],\n",
    "            \"7way\":shap_values_arr[5][0],\n",
    "            \"8way\":shap_values_arr[6][0],\n",
    "            \"9way\":shap_values_arr[7][0],\n",
    "            \"10way\":shap_values_arr[8][0]})\n",
    "saabas_values_arr = pd.DataFrame({\"2way\":saabas_values_arr[0][0],\n",
    "            \"3way\":saabas_values_arr[1][0],\n",
    "            \"4way\":saabas_values_arr[2][0],\n",
    "            \"5way\":saabas_values_arr[3][0],\n",
    "            \"6way\":saabas_values_arr[4][0],\n",
    "            \"7way\":saabas_values_arr[5][0],\n",
    "            \"8way\":saabas_values_arr[6][0],\n",
    "            \"9way\":saabas_values_arr[7][0],\n",
    "            \"10way\":saabas_values_arr[8][0]})"
   ]
  },
  {
   "cell_type": "code",
   "execution_count": 8,
   "metadata": {},
   "outputs": [],
   "source": [
    "# don't need to run again\n",
    "\n",
    "#save shap_values_arr, saabas_values_arr to files\n",
    "# so we do not have rerun each time\n",
    "\n",
    "shap_values_arr.to_csv(Path.cwd().joinpath(\"shap_values_arr.csv\"))\n",
    "saabas_values_arr.to_csv(Path.cwd().joinpath(\"saabas_values_arr.csv\"))"
   ]
  },
  {
   "cell_type": "code",
   "execution_count": 9,
   "metadata": {},
   "outputs": [],
   "source": [
    "# start from this\n",
    "\n",
    "shap_values_arr = pd.read_csv(Path.cwd().joinpath(\"shap_values_arr.csv\"),).iloc[:,1:]\n",
    "saabas_values_arr = pd.read_csv(Path.cwd().joinpath(\"saabas_values_arr.csv\"),).iloc[:,1:]"
   ]
  },
  {
   "cell_type": "code",
   "execution_count": 10,
   "metadata": {
    "scrolled": true
   },
   "outputs": [
    {
     "data": {
      "image/png": "[encoded data removed]",
      "text/plain": [
       "<Figure size 720x288 with 2 Axes>"
      ]
     },
     "metadata": {
      "needs_background": "light"
     },
     "output_type": "display_data"
    }
   ],
   "source": [
    "f = pl.figure(figsize=(10,4))\n",
    "pl.subplot(1,2,1)\n",
    "for i in range(len(saabas_values_arr)-1):\n",
    "    pl.plot(\n",
    "        list(range(0,i+2)), sorted(saabas_values_arr.iloc[:,i][:i+2]), \".-\",\n",
    "        markersize=12, label=str(i+2)+\" way AND\", linewidth=3,\n",
    "       # color=shap.plots.colors.red_blue_solid(i * 1.0/8)\n",
    "    )\n",
    "pl.ylabel(\"Feature attribution value\")\n",
    "pl.xlabel(\"Feature depth in the tree\")\n",
    "#pl.legend()\n",
    "pl.gca().xaxis.set_ticks_position('bottom')\n",
    "pl.gca().yaxis.set_ticks_position('left')\n",
    "pl.gca().spines['right'].set_visible(False)\n",
    "pl.gca().spines['top'].set_visible(False)\n",
    "pl.ylim(0,0.7)\n",
    "pl.title(\"Inconsistent explanations \\n of AND functions by Sabaas\")\n",
    "\n",
    "pl.subplot(1,2,2) \n",
    "for i in range(len(shap_values_arr)-1):\n",
    "    pl.plot(\n",
    "        list(range(0,i+2)), sorted(shap_values_arr.iloc[:,i][:i+2]), \".-\",\n",
    "        markersize=12, label=str(i+2)+\" way AND\", linewidth=3,\n",
    "       # color=shap.plots.colors.red_blue_solid(i * 1.0/8)\n",
    "    )\n",
    "#pl.ylabel(\"SHAP feature attribution value\")\n",
    "pl.xlabel(\"Feature depth in the tree\")\n",
    "pl.legend()\n",
    "pl.gca().xaxis.set_ticks_position('bottom')\n",
    "pl.gca().yaxis.set_ticks_position('left')\n",
    "pl.gca().spines['right'].set_visible(False)\n",
    "pl.gca().spines['top'].set_visible(False)\n",
    "pl.title(\"Consistent explanations \\n of AND functions by Tree SHAP\")\n",
    "pl.ylim(0,0.7)\n",
    "#pl.colorbar()\n",
    "pl.savefig(\"multiway_and.pdf\")\n",
    "pl.show()"
   ]
  },
  {
   "cell_type": "markdown",
   "metadata": {},
   "source": [
    "## fit model with a random forest"
   ]
  },
  {
   "cell_type": "code",
   "execution_count": 12,
   "metadata": {},
   "outputs": [],
   "source": [
    "# don't need to run again\n",
    "\n",
    "# default obsn\n",
    "saabas_values_rf = []\n",
    "shap_values_rf = []\n",
    "for i in range(2,11):\n",
    "    X,y = multiwayand(and_size=i, extra_features=10-i)\n",
    "    #print(i)\n",
    "    #print(X)\n",
    "    #print(y)\n",
    "    y[y == 0] = -y.sum()/(y == 0).sum()\n",
    "\n",
    "    # model = sklearn.tree.DecisionTreeRegressor()\n",
    "    rf = RandomForestRegressor(max_features = int(np.round(np.sqrt(i-1))), \n",
    "                               random_state=50, n_estimators = 100)\n",
    "    # max_features = mtry = 1; \n",
    "    # if max_depth=i, there is a problem\n",
    "    rf.fit(X,y)\n",
    "    \n",
    "    # all trees\n",
    "    j=0\n",
    "    shap_values = []\n",
    "    saabas_values = []\n",
    "    for tree in rf.estimators_:\n",
    "        shap_values.append(shap.TreeExplainer(tree).shap_values(X[0:1,:]).mean(axis = 0))\n",
    "        saabas_values.append(shap.TreeExplainer(tree).shap_values(X[0:1,:], approximate=True).mean(axis = 0))\n",
    "\n",
    "        j=j+1\n",
    "\n",
    "    shap_values_rf.append(np.mean(shap_values, axis = 0))\n",
    "    saabas_values_rf.append(np.mean(saabas_values, axis = 0))\n",
    "#     print(y.mean())\n",
    "#    print(\"shap value: \", shap_values_rf)\n",
    "#    print(\"saabas value: \", saabas_values_rf)\n",
    "#    print(X[0,:])\n"
   ]
  },
  {
   "cell_type": "code",
   "execution_count": 13,
   "metadata": {},
   "outputs": [],
   "source": [
    "# don't need to run again\n",
    "\n",
    "# change to dataframe\n",
    "\n",
    "shap_values_rf = pd.DataFrame({\"2way\":shap_values_rf[0],\n",
    "            \"3way\":shap_values_rf[1],\n",
    "            \"4way\":shap_values_rf[2],\n",
    "            \"5way\":shap_values_rf[3],\n",
    "            \"6way\":shap_values_rf[4],\n",
    "            \"7way\":shap_values_rf[5],\n",
    "            \"8way\":shap_values_rf[6],\n",
    "            \"9way\":shap_values_rf[7],\n",
    "            \"10way\":shap_values_rf[8]})\n",
    "saabas_values_rf = pd.DataFrame({\"2way\":saabas_values_rf[0],\n",
    "            \"3way\":saabas_values_rf[1],\n",
    "            \"4way\":saabas_values_rf[2],\n",
    "            \"5way\":saabas_values_rf[3],\n",
    "            \"6way\":saabas_values_rf[4],\n",
    "            \"7way\":saabas_values_rf[5],\n",
    "            \"8way\":saabas_values_rf[6],\n",
    "            \"9way\":saabas_values_rf[7],\n",
    "            \"10way\":saabas_values_rf[8]})\n"
   ]
  },
  {
   "cell_type": "code",
   "execution_count": 14,
   "metadata": {},
   "outputs": [],
   "source": [
    "#save shap_values_rf, saabas_values_rf to files\n",
    "# so we do not have rerun each time\n",
    "\n",
    "shap_values_rf.to_csv(Path.cwd().joinpath(\"shap_values_rf.csv\"))\n",
    "saabas_values_rf.to_csv(Path.cwd().joinpath(\"saabas_values_rf.csv\"))"
   ]
  },
  {
   "cell_type": "code",
   "execution_count": 15,
   "metadata": {},
   "outputs": [],
   "source": [
    "# start from this\n",
    "\n",
    "shap_values_rf = pd.read_csv(Path.cwd().joinpath(\"shap_values_rf.csv\"),).iloc[:,1:]\n",
    "saabas_values_rf = pd.read_csv(Path.cwd().joinpath(\"saabas_values_rf.csv\"),).iloc[:,1:]"
   ]
  },
  {
   "cell_type": "code",
   "execution_count": 16,
   "metadata": {
    "scrolled": true
   },
   "outputs": [
    {
     "name": "stdout",
     "output_type": "stream",
     "text": [
      "\n"
     ]
    },
    {
     "data": {
      "image/png": "[encoded data removed]",
      "text/plain": [
       "<Figure size 720x288 with 2 Axes>"
      ]
     },
     "metadata": {
      "needs_background": "light"
     },
     "output_type": "display_data"
    }
   ],
   "source": [
    "print()\n",
    "f = pl.figure(figsize=(10,4))\n",
    "pl.subplot(1,2,1)\n",
    "for i in range(len(saabas_values_rf)-1):\n",
    "    pl.plot(\n",
    "        list(range(0,i+2)), sorted(saabas_values_rf.iloc[:,i][:i+2]), \".-\",\n",
    "        markersize=12, label=str(i+2)+\" way AND\", linewidth=3,\n",
    "       # color=shap.plots.colors.red_blue_solid(i * 1.0/8)\n",
    "    )\n",
    "pl.ylabel(\"Feature attribution value\")\n",
    "pl.xlabel(\"Feature depth in the tree\")\n",
    "#pl.legend()\n",
    "pl.gca().xaxis.set_ticks_position('bottom')\n",
    "pl.gca().yaxis.set_ticks_position('left')\n",
    "pl.gca().spines['right'].set_visible(False)\n",
    "pl.gca().spines['top'].set_visible(False)\n",
    "pl.ylim(0,0.7)\n",
    "pl.title(\"Somewhat consistent explanations of \\n AND functions by Sabaas in random forest\")\n",
    "\n",
    "pl.subplot(1,2,2) \n",
    "for i in range(len(shap_values_rf)-1):\n",
    "    pl.plot(\n",
    "        list(range(0,i+2)), sorted(shap_values_rf.iloc[:,i][:i+2]), \".-\",\n",
    "        markersize=12, label=str(i+2)+\" way AND\", linewidth=3,\n",
    "       # color=shap.plots.colors.red_blue_solid(i * 1.0/8)\n",
    "    )\n",
    "#pl.ylabel(\"SHAP feature attribution value\")\n",
    "pl.xlabel(\"Feature depth in each tree\")\n",
    "pl.legend()\n",
    "pl.gca().xaxis.set_ticks_position('bottom')\n",
    "pl.gca().yaxis.set_ticks_position('left')\n",
    "pl.gca().spines['right'].set_visible(False)\n",
    "pl.gca().spines['top'].set_visible(False)\n",
    "pl.title(\"Consistent explanations \\n of AND functions by Tree SHAP in a random forest\")\n",
    "pl.ylim(0,0.7)\n",
    "#pl.colorbar()\n",
    "pl.savefig(\"multiway_and_rf.pdf\")\n",
    "pl.show()"
   ]
  },
  {
   "cell_type": "code",
   "execution_count": 20,
   "metadata": {
    "scrolled": true
   },
   "outputs": [
    {
     "data": {
      "text/plain": [
       "0.9216015625000002"
      ]
     },
     "execution_count": 20,
     "metadata": {},
     "output_type": "execute_result"
    }
   ],
   "source": [
    "sum(shap_values_rf[0])"
   ]
  },
  {
   "cell_type": "code",
   "execution_count": 21,
   "metadata": {},
   "outputs": [
    {
     "data": {
      "text/plain": [
       "0.8738392857142856"
      ]
     },
     "execution_count": 21,
     "metadata": {},
     "output_type": "execute_result"
    }
   ],
   "source": [
    "sum(shap_values_rf[1])"
   ]
  },
  {
   "cell_type": "code",
   "execution_count": 22,
   "metadata": {},
   "outputs": [
    {
     "data": {
      "text/plain": [
       "0.8935208333333329"
      ]
     },
     "execution_count": 22,
     "metadata": {},
     "output_type": "execute_result"
    }
   ],
   "source": [
    "sum(shap_values_rf[2])"
   ]
  },
  {
   "cell_type": "code",
   "execution_count": 23,
   "metadata": {},
   "outputs": [
    {
     "name": "stdout",
     "output_type": "stream",
     "text": [
      "8\n",
      "[[0.06256109 0.25024438 0.12512219 0.00782014 0.00195503 0.03128055\n",
      "  0.01564027 0.00097752 0.00391007 0.50048876]]\n",
      "[0.05883043 0.05841907 0.05725261 0.06168665 0.06379423 0.0885171\n",
      " 0.06669711 0.04975017 0.08672942 0.05798108]\n",
      "[0.06256109 0.25024438]\n",
      "[0.05883043 0.05841907]\n"
     ]
    }
   ],
   "source": [
    "# The ways to select from the final saabas/shap list are different\n",
    "print(i)\n",
    "print(saabas_values_arr[i])\n",
    "print(saabas_values_rf[i])\n",
    "print(saabas_values_arr[i][0,:2])\n",
    "print(saabas_values_rf[i][:2])"
   ]
  },
  {
   "cell_type": "markdown",
   "metadata": {},
   "source": [
    "- 2, 3, 4 ways \n",
    "- random forest average\n",
    "- explanation to the logic of codes\n",
    "- or"
   ]
  },
  {
   "cell_type": "markdown",
   "metadata": {},
   "source": [
    "# Multi-way OR function"
   ]
  },
  {
   "cell_type": "code",
   "execution_count": 24,
   "metadata": {},
   "outputs": [],
   "source": [
    "def multiwayor(display=False, or_size=2, extra_features=0):\n",
    "    M = or_size + extra_features\n",
    "    N = 2**M\n",
    "    \n",
    "    X = np.zeros((N,M))\n",
    "    def rec(X, start, end, depth):\n",
    "        if depth >= X.shape[1]: return\n",
    "        half = (start + end) // 2\n",
    "        X[start:half,depth] = 1\n",
    "        rec(X, start, half, depth + 1)\n",
    "        rec(X, half, end, depth + 1)\n",
    "    rec(X, 0, N, 0)\n",
    "    y = np.zeros(N)\n",
    "    y[X[:,:or_size].sum(1) > 0] = 1\n",
    "    return X, y\n"
   ]
  },
  {
   "cell_type": "code",
   "execution_count": 25,
   "metadata": {},
   "outputs": [
    {
     "data": {
      "text/plain": [
       "array([[1., 1., 1., 1.],\n",
       "       [1., 1., 1., 0.],\n",
       "       [1., 1., 0., 1.],\n",
       "       [1., 1., 0., 0.],\n",
       "       [1., 0., 1., 1.],\n",
       "       [1., 0., 1., 0.],\n",
       "       [1., 0., 0., 1.],\n",
       "       [1., 0., 0., 0.],\n",
       "       [0., 1., 1., 1.],\n",
       "       [0., 1., 1., 0.],\n",
       "       [0., 1., 0., 1.],\n",
       "       [0., 1., 0., 0.],\n",
       "       [0., 0., 1., 1.],\n",
       "       [0., 0., 1., 0.],\n",
       "       [0., 0., 0., 1.],\n",
       "       [0., 0., 0., 0.]])"
      ]
     },
     "execution_count": 25,
     "metadata": {},
     "output_type": "execute_result"
    }
   ],
   "source": [
    "X,y = multiwayor(or_size=2, extra_features=2)\n",
    "X"
   ]
  },
  {
   "cell_type": "code",
   "execution_count": 26,
   "metadata": {},
   "outputs": [
    {
     "data": {
      "text/plain": [
       "array([1., 1., 1., 1., 1., 1., 1., 1., 1., 1., 1., 1., 0., 0., 0., 0.])"
      ]
     },
     "execution_count": 26,
     "metadata": {},
     "output_type": "execute_result"
    }
   ],
   "source": [
    "y"
   ]
  },
  {
   "cell_type": "markdown",
   "metadata": {},
   "source": [
    "## fit model with a single tree"
   ]
  },
  {
   "cell_type": "code",
   "execution_count": 27,
   "metadata": {
    "scrolled": true
   },
   "outputs": [
    {
     "data": {
      "image/png": "[encoded data removed]",
      "text/plain": [
       "<Figure size 720x288 with 2 Axes>"
      ]
     },
     "metadata": {
      "needs_background": "light"
     },
     "output_type": "display_data"
    }
   ],
   "source": [
    "# fit model\n",
    "saabas_values_arr = []\n",
    "shap_values_arr = []\n",
    "for i in range(2,5):\n",
    "    X,y = multiwayor(or_size=i, extra_features=4-i)\n",
    "    y[y == 0] = -y.sum()/(y == 0).sum()\n",
    "    model = sklearn.tree.DecisionTreeRegressor(max_depth=i)\n",
    "    model.fit(X, y)\n",
    "    \n",
    "#     print(y.mean())\n",
    "\n",
    "    shap_values = shap.TreeExplainer(model).shap_values(X[0:1,:])\n",
    "    shap_values_arr.append(shap_values)\n",
    "    saabas_values = shap.TreeExplainer(model).shap_values(X[0:1,:], approximate=True)\n",
    "    saabas_values_arr.append(saabas_values)\n",
    "#     print(X[0,:])\n",
    "#    print(\"shap\", shap.TreeExplainer(model).shap_values(X[0:1,:]))\n",
    "#    print(\"saabas\", shap.TreeExplainer(model).shap_values(X[0:1,:], approximate=True))\n",
    "\n",
    "f = pl.figure(figsize=(10,4))\n",
    "pl.subplot(1,2,1)\n",
    "for i in range(len(saabas_values_arr)):\n",
    "    pl.plot(\n",
    "        list(range(0,i+2)), sorted(saabas_values_arr[i][0,:i+2]), \".-\",\n",
    "        markersize=8, label=str(i+2)+\" way OR\",\n",
    "       # color=shap.plots.colors.red_blue_solid(i * 1.0/8)\n",
    "    )\n",
    "pl.ylabel(\"Feature attribution value\")    \n",
    "pl.xlabel(\"Feature depth in the tree\") \n",
    "#pl.legend()\n",
    "pl.title(\"Saabas\")\n",
    "\n",
    "pl.subplot(1,2,2) \n",
    "for i in range(len(shap_values_arr)):\n",
    "    pl.plot(\n",
    "        list(range(0,i+2)), sorted(shap_values_arr[i][0,:i+2]), \".-\",\n",
    "        markersize=8, label=str(i+2)+\" way OR\",\n",
    "       # color=shap.plots.colors.red_blue_solid(i * 1.0/8)\n",
    "    )\n",
    "pl.xlabel(\"Feature depth in the tree\")\n",
    "pl.legend()\n",
    "pl.gca().xaxis.set_ticks_position('bottom')\n",
    "pl.gca().yaxis.set_ticks_position('left')\n",
    "pl.gca().spines['right'].set_visible(False)\n",
    "pl.gca().spines['top'].set_visible(False)\n",
    "pl.title(\"SHAP\")\n",
    "pl.ylim(0,1)\n",
    "pl.show()"
   ]
  },
  {
   "cell_type": "code",
   "execution_count": 28,
   "metadata": {},
   "outputs": [
    {
     "name": "stdout",
     "output_type": "stream",
     "text": [
      "0\n",
      "[[0. 1. 0. 0.]]\n",
      "[0. 1.]\n",
      "[[0.5 0.5 0.  0. ]]\n",
      "[0.5 0.5]\n",
      "1\n",
      "[[0. 1. 0. 0.]]\n",
      "[0. 1. 0.]\n",
      "[[0.33333333 0.33333333 0.33333333 0.        ]]\n",
      "[0.33333333 0.33333333 0.33333333]\n",
      "2\n",
      "[[1. 0. 0. 0.]]\n",
      "[1. 0. 0. 0.]\n",
      "[[0.25 0.25 0.25 0.25]]\n",
      "[0.25 0.25 0.25 0.25]\n"
     ]
    }
   ],
   "source": [
    "# check why the saabas is shown like this\n",
    "for i in range(3):\n",
    "    print(i)\n",
    "    print(saabas_values_arr[i])\n",
    "    print(saabas_values_arr[i][0,:i+2])\n",
    "    print(shap_values_arr[i])\n",
    "    print(shap_values_arr[i][0,:i+2])"
   ]
  },
  {
   "cell_type": "code",
   "execution_count": 29,
   "metadata": {
    "scrolled": true
   },
   "outputs": [
    {
     "data": {
      "text/plain": [
       "([0, 1, 2], [0.0, 0.0, 1.0])"
      ]
     },
     "execution_count": 29,
     "metadata": {},
     "output_type": "execute_result"
    }
   ],
   "source": [
    "list(range(0,1+2)), sorted(saabas_values_arr[i][0,:1+2])"
   ]
  },
  {
   "cell_type": "code",
   "execution_count": 30,
   "metadata": {},
   "outputs": [
    {
     "data": {
      "text/plain": [
       "array([1., 0., 0., 0.])"
      ]
     },
     "execution_count": 30,
     "metadata": {},
     "output_type": "execute_result"
    }
   ],
   "source": [
    "saabas_values_arr[i][0,:i+2]"
   ]
  },
  {
   "cell_type": "markdown",
   "metadata": {},
   "source": [
    "##  fit model with a random forest"
   ]
  },
  {
   "cell_type": "code",
   "execution_count": 31,
   "metadata": {
    "scrolled": true
   },
   "outputs": [
    {
     "name": "stdout",
     "output_type": "stream",
     "text": [
      "\n"
     ]
    },
    {
     "data": {
      "image/png": "[encoded data removed]",
      "text/plain": [
       "<Figure size 720x288 with 2 Axes>"
      ]
     },
     "metadata": {
      "needs_background": "light"
     },
     "output_type": "display_data"
    }
   ],
   "source": [
    "# fit model\n",
    "saabas_values_rf = []\n",
    "shap_values_rf = []\n",
    "for i in range(2,11):\n",
    "    X,y = multiwayor(or_size=i, extra_features=10-i)\n",
    "    y[y == 0] = -y.sum()/(y == 0).sum()\n",
    "    rf = RandomForestRegressor(max_features = int(np.round(np.sqrt(i-1))), n_estimators = 200)\n",
    "    # max_features = mtry = 1; \n",
    "    # if max_depth=i, there is a problem\n",
    "    rf.fit(X,y)\n",
    "    \n",
    "    # all trees\n",
    "    j=0\n",
    "    shap_values = []\n",
    "    saabas_values = []\n",
    "    for tree in rf.estimators_:\n",
    "        shap_values.append(shap.TreeExplainer(tree).shap_values(X[0:1,:]).mean(axis = 0))\n",
    "        saabas_values.append(shap.TreeExplainer(tree).shap_values(X[0:1,:], approximate=True).mean(axis = 0))\n",
    "\n",
    "        j=j+1\n",
    "\n",
    "    shap_values_rf.append(np.mean(shap_values, axis = 0))\n",
    "    saabas_values_rf.append(np.mean(saabas_values, axis = 0))\n",
    "#     print(y.mean())\n",
    "#    print(\"shap value: \", shap_values_rf)\n",
    "#    print(\"saabas value: \", saabas_values_rf)\n",
    "#    print(X[0,:])\n",
    "print()\n",
    "f = pl.figure(figsize=(10,4))\n",
    "pl.subplot(1,2,1)\n",
    "for i in range(len(saabas_values_rf)):\n",
    "    pl.plot(\n",
    "        list(range(0,i+2)), sorted(saabas_values_rf[i][:i+2]), \".-\",\n",
    "        markersize=8, label=str(i+2)+\" way OR\",\n",
    "       # color=shap.plots.colors.red_blue_solid(i * 1.0/8)\n",
    "    )\n",
    "pl.ylabel(\"Feature attribution value\")    \n",
    "pl.xlabel(\"Feature depth in the tree\") \n",
    "pl.ylim(0,1)\n",
    "#pl.legend()\n",
    "pl.title(\"Saabas\")\n",
    "\n",
    "pl.subplot(1,2,2) \n",
    "for i in range(len(shap_values_rf)):\n",
    "    pl.plot(\n",
    "        list(range(0,i+2)), sorted(shap_values_rf[i][:i+2]), \".-\",\n",
    "        markersize=8, label=str(i+2)+\" way OR\",\n",
    "       # color=shap.plots.colors.red_blue_solid(i * 1.0/8)\n",
    "    )\n",
    "pl.xlabel(\"Feature depth in the tree\")\n",
    "pl.legend()\n",
    "pl.gca().xaxis.set_ticks_position('bottom')\n",
    "pl.gca().yaxis.set_ticks_position('left')\n",
    "pl.gca().spines['right'].set_visible(False)\n",
    "pl.gca().spines['top'].set_visible(False)\n",
    "pl.title(\"SHAP\")\n",
    "pl.ylim(0,1)\n",
    "pl.show()"
   ]
  },
  {
   "cell_type": "markdown",
   "metadata": {},
   "source": [
    "- Sage: https://github.com/iancovert/sage"
   ]
  }
 ],
 "metadata": {
  "kernelspec": {
   "display_name": "Python 3 (ipykernel)",
   "language": "python",
   "name": "python3"
  },
  "language_info": {
   "codemirror_mode": {
    "name": "ipython",
    "version": 3
   },
   "file_extension": ".py",
   "mimetype": "text/x-python",
   "name": "python",
   "nbconvert_exporter": "python",
   "pygments_lexer": "ipython3",
   "version": "3.8.5"
  },
  "toc": {
   "base_numbering": 1,
   "nav_menu": {},
   "number_sections": true,
   "sideBar": true,
   "skip_h1_title": false,
   "title_cell": "Table of Contents",
   "title_sidebar": "Contents",
   "toc_cell": true,
   "toc_position": {},
   "toc_section_display": true,
   "toc_window_display": false
  }
 },
 "nbformat": 4,
 "nbformat_minor": 2
}
